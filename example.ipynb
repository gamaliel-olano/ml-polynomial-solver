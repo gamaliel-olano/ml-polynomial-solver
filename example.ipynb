{
 "cells": [
  {
   "cell_type": "code",
   "execution_count": 145,
   "id": "48cea5bf",
   "metadata": {},
   "outputs": [
    {
     "name": "stdout",
     "output_type": "stream",
     "text": [
      "Calculating coefficients for degree = 1\n"
     ]
    },
    {
     "name": "stderr",
     "output_type": "stream",
     "text": [
      "100%|██████████████████████████████████████████████████████████████████████████████████| 20/20 [00:07<00:00,  2.75it/s]\n"
     ]
    },
    {
     "name": "stdout",
     "output_type": "stream",
     "text": [
      "Calculating coefficients for degree = 2\n"
     ]
    },
    {
     "name": "stderr",
     "output_type": "stream",
     "text": [
      "100%|██████████████████████████████████████████████████████████████████████████████████| 20/20 [00:11<00:00,  1.76it/s]\n"
     ]
    },
    {
     "name": "stdout",
     "output_type": "stream",
     "text": [
      "Calculating coefficients for degree = 3\n"
     ]
    },
    {
     "name": "stderr",
     "output_type": "stream",
     "text": [
      "100%|██████████████████████████████████████████████████████████████████████████████████| 20/20 [00:14<00:00,  1.41it/s]\n"
     ]
    },
    {
     "name": "stdout",
     "output_type": "stream",
     "text": [
      "Calculating coefficients for degree = 4\n"
     ]
    },
    {
     "name": "stderr",
     "output_type": "stream",
     "text": [
      "100%|██████████████████████████████████████████████████████████████████████████████████| 20/20 [00:17<00:00,  1.15it/s]"
     ]
    },
    {
     "name": "stdout",
     "output_type": "stream",
     "text": [
      "Degree: 1\n",
      "Predicted coeffs: \n",
      "[[  1.8606812]\n",
      " [-50.076717 ]]\n"
     ]
    },
    {
     "name": "stderr",
     "output_type": "stream",
     "text": [
      "\n"
     ]
    }
   ],
   "source": [
    "from tinygrad.tensor import Tensor\n",
    "import tinygrad.nn.optim as optim\n",
    "import numpy as np\n",
    "from tqdm import tqdm\n",
    "\n",
    "# Read data_train and data_test csv files then shuffle order\n",
    "train_set = np.loadtxt('data_train.csv', skiprows=1, delimiter=',')\n",
    "np.random.shuffle(train_set)\n",
    "test_set = np.loadtxt('data_test.csv', skiprows=1, delimiter=',')\n",
    "np.random.shuffle(test_set)\n",
    "\n",
    "# Set parameter values\n",
    "epoch = 20 # Number of Epoch\n",
    "size = 4 # Batch Size\n",
    "batch = round(len(train_set)/size) # Number of batches\n",
    "\n",
    "train_set = Tensor(train_set, requires_grad = True)\n",
    "\n",
    "class TinyModel():\n",
    "    def __init__(self, degree, epoch, batch):\n",
    "        self.n = degree + 1\n",
    "        self.epoch = epoch\n",
    "        self.batch = batch\n",
    "        self.c_preds = Tensor.uniform(self.n,1)\n",
    "\n",
    "    def forward(self,x):\n",
    "        y_pred = 0\n",
    "        for i in range(self.n):\n",
    "            y_pred += self.c_preds[i]*(x**i)\n",
    "        return y_pred  \n",
    "\n",
    "def train(train_set, optimizer, epoch, batch):\n",
    "    n = 0\n",
    "    for i in tqdm(range(epoch)):\n",
    "        optimizer.zero_grad()\n",
    "        epoch_loss = 0\n",
    "        for j in range(batch):\n",
    "            y_pred = model.forward(train_set[n][0])\n",
    "            g_truth = train_set[n][1]\n",
    "            mse = (g_truth - y_pred)**2\n",
    "            epoch_loss += mse\n",
    "            n += 1\n",
    "        epoch_loss *= (1/batch)\n",
    "        epoch_loss.backward()\n",
    "        optimizer.step()\n",
    "\n",
    "def calc_loss(test_set):\n",
    "    loss = 0\n",
    "    n = 0\n",
    "    for i in range(max(test_set.shape)):\n",
    "        prediction = model.forward(test_set[n][0])\n",
    "        mse = (test_set[n][1] - prediction)**2 #Mean Square Error\n",
    "        loss += mse\n",
    "        n += 1\n",
    "    loss *= (1/max(test_set.shape))\n",
    "    return loss\n",
    "\n",
    "degree = 1\n",
    "print('Calculating coefficients for degree = {}'.format(degree))\n",
    "model = TinyModel(degree, epoch, batch)\n",
    "optimizer1 = optim.SGD([model.c_preds],lr = 0.0001)\n",
    "train(train_set, optimizer1, epoch, batch)\n",
    "c_preds1 = model.c_preds.data\n",
    "loss1 = calc_loss(test_set)\n",
    "least_loss = loss1.data\n",
    "\n",
    "degree = 2\n",
    "print('Calculating coefficients for degree = {}'.format(degree))\n",
    "model = TinyModel(degree, epoch, batch)\n",
    "optimizer2 = optim.SGD([model.c_preds],lr = 0.0001)\n",
    "train(train_set, optimizer2, epoch, batch)\n",
    "c_preds2 = model.c_preds.data\n",
    "loss2 = calc_loss(test_set)\n",
    "if (loss2.data < least_loss) : least_loss = loss2.data\n",
    "\n",
    "degree = 3\n",
    "print('Calculating coefficients for degree = {}'.format(degree))\n",
    "model = TinyModel(degree, epoch, batch)\n",
    "optimizer3 = optim.SGD([model.c_preds],lr = 0.0001)\n",
    "train(train_set, optimizer3, epoch, batch)\n",
    "c_preds3 = model.c_preds.data\n",
    "loss3 = calc_loss(test_set)\n",
    "if (loss3.data < least_loss) : least_loss = loss3.data\n",
    "\n",
    "degree = 4\n",
    "print('Calculating coefficients for degree = {}'.format(degree))\n",
    "model = TinyModel(degree, epoch, batch)\n",
    "optimizer4 = optim.SGD([model.c_preds],lr = 0.0001)\n",
    "train(train_set, optimizer4, epoch, batch)\n",
    "c_preds4 = model.c_preds.data\n",
    "loss4 = calc_loss(test_set)\n",
    "if (loss4.data < least_loss) : least_loss = loss4.data\n",
    "    \n",
    "if(loss4.data == least_loss):\n",
    "    print(f\"Degree: 4\\nPredicted coeffs: \\n{c_preds4}\")\n",
    "elif(loss3.data == least_loss):\n",
    "    print(f\"Degree: 3\\nPredicted coeffs: \\n{c_preds3}\")\n",
    "elif(loss2.data == least_loss):\n",
    "    print(f\"Degree: 2\\nPredicted coeffs: \\n{c_preds2}\")\n",
    "else:\n",
    "    print(f\"Degree: 1\\nPredicted coeffs: \\n{c_preds1}\")"
   ]
  }
 ],
 "metadata": {
  "kernelspec": {
   "display_name": "Python 3 (ipykernel)",
   "language": "python",
   "name": "python3"
  },
  "language_info": {
   "codemirror_mode": {
    "name": "ipython",
    "version": 3
   },
   "file_extension": ".py",
   "mimetype": "text/x-python",
   "name": "python",
   "nbconvert_exporter": "python",
   "pygments_lexer": "ipython3",
   "version": "3.9.13"
  }
 },
 "nbformat": 4,
 "nbformat_minor": 5
}
